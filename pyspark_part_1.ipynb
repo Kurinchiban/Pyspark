{
 "cells": [
  {
   "cell_type": "code",
   "execution_count": 1,
   "metadata": {},
   "outputs": [],
   "source": [
    "import pyspark"
   ]
  },
  {
   "cell_type": "code",
   "execution_count": 21,
   "metadata": {},
   "outputs": [],
   "source": [
    "# Intial step is to create a spark session \n",
    "\n",
    "from pyspark.sql import SparkSession\n",
    "\n",
    "spark = SparkSession.builder.appName(\"pratice\").getOrCreate()"
   ]
  },
  {
   "cell_type": "code",
   "execution_count": 20,
   "metadata": {},
   "outputs": [
    {
     "data": {
      "text/html": [
       "\n",
       "            <div>\n",
       "                <p><b>SparkSession - in-memory</b></p>\n",
       "                \n",
       "        <div>\n",
       "            <p><b>SparkContext</b></p>\n",
       "\n",
       "            <p><a href=\"http://192.168.1.19:4040\">Spark UI</a></p>\n",
       "\n",
       "            <dl>\n",
       "              <dt>Version</dt>\n",
       "                <dd><code>v3.3.1</code></dd>\n",
       "              <dt>Master</dt>\n",
       "                <dd><code>local[*]</code></dd>\n",
       "              <dt>AppName</dt>\n",
       "                <dd><code>pratice</code></dd>\n",
       "            </dl>\n",
       "        </div>\n",
       "        \n",
       "            </div>\n",
       "        "
      ],
      "text/plain": [
       "<pyspark.sql.session.SparkSession at 0x7f103bfc7dc0>"
      ]
     },
     "execution_count": 20,
     "metadata": {},
     "output_type": "execute_result"
    }
   ],
   "source": [
    "spark"
   ]
  },
  {
   "cell_type": "code",
   "execution_count": 35,
   "metadata": {},
   "outputs": [
    {
     "name": "stdout",
     "output_type": "stream",
     "text": [
      "+-----------+---+----------+\n",
      "|       Name|Age|Experience|\n",
      "+-----------+---+----------+\n",
      "|Kurinchiban| 23|         2|\n",
      "|    Kishore| 30|        10|\n",
      "|      Kavin| 18|         0|\n",
      "+-----------+---+----------+\n",
      "\n",
      "root\n",
      " |-- Name: string (nullable = true)\n",
      " |-- Age: integer (nullable = true)\n",
      " |-- Experience: integer (nullable = true)\n",
      "\n"
     ]
    }
   ],
   "source": [
    "### Read a Dataset \n",
    "\n",
    "# df_spark = spark.read.csv(\"Data.csv\",header=True)\n",
    "\n",
    "### Read the file using option \n",
    "# Unless we give the infer schema we will get the deafault datatype string \n",
    "\n",
    "df_spark = spark.read.option('header','true').csv(\"Data.csv\",inferSchema=True)\n",
    "\n",
    "df_spark.show()\n",
    "\n",
    "### Check the schema\n",
    "df_spark.printSchema()  "
   ]
  },
  {
   "cell_type": "code",
   "execution_count": 33,
   "metadata": {},
   "outputs": [
    {
     "name": "stdout",
     "output_type": "stream",
     "text": [
      "+-----------+---+\n",
      "|       Name|Age|\n",
      "+-----------+---+\n",
      "|Kurinchiban| 23|\n",
      "|    Kishore| 30|\n",
      "|      Kavin| 18|\n",
      "+-----------+---+\n",
      "\n"
     ]
    }
   ],
   "source": [
    "# df_spark.head(2)\n",
    "\n",
    "### Selecting the columns \n",
    "\n",
    "# df_spark.columns\n",
    "\n",
    "# df_spark.select(\"Name\").show()\n",
    "\n",
    "df_spark.select([\"Name\",\"Age\"]).show()\n"
   ]
  },
  {
   "cell_type": "code",
   "execution_count": 34,
   "metadata": {},
   "outputs": [
    {
     "name": "stdout",
     "output_type": "stream",
     "text": [
      "+-------+-----------+------------------+-----------------+\n",
      "|summary|       Name|               Age|       Experience|\n",
      "+-------+-----------+------------------+-----------------+\n",
      "|  count|          3|                 3|                3|\n",
      "|   mean|       null|23.666666666666668|              4.0|\n",
      "| stddev|       null| 6.027713773341707|5.291502622129181|\n",
      "|    min|      Kavin|                18|                0|\n",
      "|    max|Kurinchiban|                30|               10|\n",
      "+-------+-----------+------------------+-----------------+\n",
      "\n"
     ]
    }
   ],
   "source": [
    "df_spark.describe().show()"
   ]
  },
  {
   "cell_type": "code",
   "execution_count": 40,
   "metadata": {},
   "outputs": [
    {
     "name": "stdout",
     "output_type": "stream",
     "text": [
      "+-----------+---+----------+-----------------------+\n",
      "|       Name|Age|Experience|Experience after 3 year|\n",
      "+-----------+---+----------+-----------------------+\n",
      "|Kurinchiban| 23|         2|                      5|\n",
      "|    Kishore| 30|        10|                     13|\n",
      "|      Kavin| 18|         0|                      3|\n",
      "+-----------+---+----------+-----------------------+\n",
      "\n"
     ]
    }
   ],
   "source": [
    "## Adding Colums in pyspark dataframe\n",
    "\n",
    "df_spark = df_spark.withColumn(\"Experience after 3 year\",df_spark['Experience']+3)\n",
    "\n",
    "df_spark.show()"
   ]
  },
  {
   "cell_type": "code",
   "execution_count": 41,
   "metadata": {},
   "outputs": [
    {
     "name": "stdout",
     "output_type": "stream",
     "text": [
      "+-----------+---+----------+\n",
      "|       Name|Age|Experience|\n",
      "+-----------+---+----------+\n",
      "|Kurinchiban| 23|         2|\n",
      "|    Kishore| 30|        10|\n",
      "|      Kavin| 18|         0|\n",
      "+-----------+---+----------+\n",
      "\n"
     ]
    }
   ],
   "source": [
    "### Dropt the columns \n",
    "\n",
    "df_spark = df_spark.drop(\"Experience after 3 year\")\n",
    "\n",
    "df_spark.show()\n"
   ]
  },
  {
   "cell_type": "code",
   "execution_count": 46,
   "metadata": {},
   "outputs": [],
   "source": [
    "# Rename the columns \n",
    "\n",
    "df_spark = df_spark.withColumnRenamed('Name',\"New_Name\")\n"
   ]
  },
  {
   "cell_type": "code",
   "execution_count": 47,
   "metadata": {},
   "outputs": [
    {
     "name": "stdout",
     "output_type": "stream",
     "text": [
      "+-----------+---+----------+\n",
      "|   New_Name|Age|Experience|\n",
      "+-----------+---+----------+\n",
      "|Kurinchiban| 23|         2|\n",
      "|    Kishore| 30|        10|\n",
      "|      Kavin| 18|         0|\n",
      "+-----------+---+----------+\n",
      "\n"
     ]
    }
   ],
   "source": [
    "df_spark.show()"
   ]
  },
  {
   "cell_type": "code",
   "execution_count": null,
   "metadata": {},
   "outputs": [],
   "source": []
  }
 ],
 "metadata": {
  "kernelspec": {
   "display_name": "env",
   "language": "python",
   "name": "python3"
  },
  "language_info": {
   "codemirror_mode": {
    "name": "ipython",
    "version": 3
   },
   "file_extension": ".py",
   "mimetype": "text/x-python",
   "name": "python",
   "nbconvert_exporter": "python",
   "pygments_lexer": "ipython3",
   "version": "3.10.6"
  },
  "orig_nbformat": 4
 },
 "nbformat": 4,
 "nbformat_minor": 2
}
