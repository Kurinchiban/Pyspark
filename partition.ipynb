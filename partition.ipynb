{
 "cells": [
  {
   "cell_type": "code",
   "execution_count": null,
   "metadata": {},
   "outputs": [],
   "source": [
    "import pyspark\n",
    "from pyspark.sql import SparkSession\n",
    "\n",
    "spark = SparkSession.builder.appName(\"partition\").getOrCreate()\n",
    "\n",
    "df = spark.read.option('','').csv(\"/home/kurinchiban/Desktop/Pyspark/Pyspark/data_source/test3.csv\",inferSchema=True)\n"
   ]
  },
  {
   "cell_type": "code",
   "execution_count": 5,
   "metadata": {},
   "outputs": [
    {
     "name": "stderr",
     "output_type": "stream",
     "text": [
      "                                                                                \r"
     ]
    },
    {
     "name": "stdout",
     "output_type": "stream",
     "text": [
      "+---+-----+\n",
      "| id|value|\n",
      "+---+-----+\n",
      "|  1|    A|\n",
      "|  2|    B|\n",
      "|  3|    C|\n",
      "|  4|    D|\n",
      "|  5|    E|\n",
      "+---+-----+\n",
      "\n",
      "Initial number of partitions: 8\n",
      "+---+-----+\n",
      "| id|value|\n",
      "+---+-----+\n",
      "|  2|    B|\n",
      "|  4|    D|\n",
      "|  1|    A|\n",
      "|  3|    C|\n",
      "|  5|    E|\n",
      "+---+-----+\n",
      "\n",
      "Repartitioned number of partitions: 3\n"
     ]
    }
   ],
   "source": [
    "from pyspark.sql import SparkSession\n",
    "\n",
    "spark = SparkSession.builder.appName(\"RepartitionExample\").getOrCreate()\n",
    "\n",
    "data = [(1, \"A\"), (2, \"B\"), (3, \"C\"), (4, \"D\"), (5, \"E\")]\n",
    "columns = [\"id\", \"value\"]\n",
    "df = spark.createDataFrame(data, columns)\n",
    "df.show()\n",
    "print(\"Initial number of partitions:\", df.rdd.getNumPartitions())\n",
    "repartitioned_df = df.repartition(3)\n",
    "repartitioned_df.show()\n",
    "print(\"Repartitioned number of partitions:\", repartitioned_df.rdd.getNumPartitions())\n",
    "spark.stop()"
   ]
  },
  {
   "cell_type": "code",
   "execution_count": 11,
   "metadata": {},
   "outputs": [
    {
     "name": "stderr",
     "output_type": "stream",
     "text": [
      "                                                                                \r"
     ]
    }
   ],
   "source": [
    "from pyspark.sql import SparkSession\n",
    "\n",
    "spark = SparkSession.builder.appName(\"RepartitionExample\").getOrCreate()\n",
    "\n",
    "data = [(1, \"A\"), (2, \"B\"), (3, \"C\"), (4, \"D\"), (5, \"E\")]\n",
    "columns = [\"id\", \"value\"]\n",
    "df = spark.createDataFrame(data, columns)\n",
    "\n",
    "repartitioned_df = df.repartition(3)\n",
    "\n",
    "df.write.mode('overwrite').csv('/home/kurinchiban/Desktop/Pyspark/Pyspark/data_source/data')\n",
    "\n",
    "repartitioned_df.write.mode(\"overwrite\").csv(\"/home/kurinchiban/Desktop/Pyspark/Pyspark/data_source/partition_data\")\n",
    "\n",
    "spark.stop()"
   ]
  }
 ],
 "metadata": {
  "kernelspec": {
   "display_name": "env",
   "language": "python",
   "name": "python3"
  },
  "language_info": {
   "codemirror_mode": {
    "name": "ipython",
    "version": 3
   },
   "file_extension": ".py",
   "mimetype": "text/x-python",
   "name": "python",
   "nbconvert_exporter": "python",
   "pygments_lexer": "ipython3",
   "version": "3.10.12"
  }
 },
 "nbformat": 4,
 "nbformat_minor": 2
}
